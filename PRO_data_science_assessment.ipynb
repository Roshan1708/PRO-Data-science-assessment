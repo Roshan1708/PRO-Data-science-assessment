{
  "nbformat": 4,
  "nbformat_minor": 0,
  "metadata": {
    "colab": {
      "provenance": []
    },
    "kernelspec": {
      "name": "python3",
      "display_name": "Python 3"
    },
    "language_info": {
      "name": "python"
    }
  },
  "cells": [
    {
      "cell_type": "markdown",
      "source": [
        "Importing the necessary libraries\n",
        "\n"
      ],
      "metadata": {
        "id": "tM-gdJCcNH-W"
      }
    },
    {
      "cell_type": "code",
      "execution_count": 1,
      "metadata": {
        "id": "RdgnPovtIQIV"
      },
      "outputs": [],
      "source": [
        "import numpy as np\n",
        "import pandas as pd\n",
        "import matplotlib.pyplot as plt\n",
        "%matplotlib inline\n",
        "import seaborn as sns\n",
        "import sklearn"
      ]
    },
    {
      "cell_type": "markdown",
      "source": [
        "Importing the dataset"
      ],
      "metadata": {
        "id": "9d8puH4FNQFX"
      }
    },
    {
      "cell_type": "code",
      "source": [
        "df=pd.read_csv('/content/books.csv')"
      ],
      "metadata": {
        "id": "rDcpqNKyIgwE"
      },
      "execution_count": 2,
      "outputs": []
    },
    {
      "cell_type": "markdown",
      "source": [
        "Q1: How many rows and columns are there in books.csv dataset?\n",
        "\n",
        "By executing the code,we get to know that the number of rows is 399 and the number of columns in the dataset is 24\n"
      ],
      "metadata": {
        "id": "yO2TtcxWNTAG"
      }
    },
    {
      "cell_type": "code",
      "source": [
        "df.shape"
      ],
      "metadata": {
        "colab": {
          "base_uri": "https://localhost:8080/"
        },
        "id": "FWCnCrxvI18Z",
        "outputId": "4f08a5d7-b737-4fcc-d09f-68d5a0a244f7"
      },
      "execution_count": 3,
      "outputs": [
        {
          "output_type": "execute_result",
          "data": {
            "text/plain": [
              "(399, 24)"
            ]
          },
          "metadata": {},
          "execution_count": 3
        }
      ]
    },
    {
      "cell_type": "markdown",
      "source": [
        "Q2: How many books do not have an original title?\n",
        "\n"
      ],
      "metadata": {
        "id": "a5WnT8A8N5iM"
      }
    },
    {
      "cell_type": "code",
      "source": [
        "no_of_books_without_an_original_title=df['original_title'].isnull().sum()\n",
        "print(\"Number of books without an original title is:\",no_of_books_without_an_original_title)"
      ],
      "metadata": {
        "colab": {
          "base_uri": "https://localhost:8080/"
        },
        "id": "j120eNxDJhDt",
        "outputId": "a319f5d7-3b83-429a-aa60-b108b6f4930d"
      },
      "execution_count": 28,
      "outputs": [
        {
          "output_type": "stream",
          "name": "stdout",
          "text": [
            "Number of books without an original title is: 36\n"
          ]
        }
      ]
    },
    {
      "cell_type": "markdown",
      "source": [
        "Q3: How many unique books are present in the dataset ? Evaluate based on the 'book_id' after removing null values in the original_title column."
      ],
      "metadata": {
        "id": "p0VoafY-OTLW"
      }
    },
    {
      "cell_type": "code",
      "source": [
        "df_a = df.dropna(subset=['original_title'])\n",
        "unique_books_count = df_a['book_id'].nunique()\n",
        "print(\"Number of unique books in the dataset are:\", unique_books_count)"
      ],
      "metadata": {
        "colab": {
          "base_uri": "https://localhost:8080/"
        },
        "id": "tYdiaUvqLCWe",
        "outputId": "899e275a-3866-463b-f33c-83b3cb33b078"
      },
      "execution_count": 29,
      "outputs": [
        {
          "output_type": "stream",
          "name": "stdout",
          "text": [
            "Number of unique books in the dataset are: 363\n"
          ]
        }
      ]
    },
    {
      "cell_type": "markdown",
      "source": [
        "Q4: What is the average rating of all the books in the dataset based on ‘average_rating’?"
      ],
      "metadata": {
        "id": "lOGVSuu7OkTy"
      }
    },
    {
      "cell_type": "code",
      "source": [
        "average_rating = df['average_rating'].mean()\n",
        "print(\"Average rating of all the books is:\", average_rating)"
      ],
      "metadata": {
        "colab": {
          "base_uri": "https://localhost:8080/"
        },
        "id": "cWTEYAi_LYPT",
        "outputId": "9f86c1d8-0f27-435d-bd14-a93fae3d59bd"
      },
      "execution_count": 22,
      "outputs": [
        {
          "output_type": "stream",
          "name": "stdout",
          "text": [
            "Average rating of all the books is: 3.9837844611528817\n"
          ]
        }
      ]
    },
    {
      "cell_type": "markdown",
      "source": [
        "Q5: Find the number of books published in the year ‘2000’ based on the ‘original_publication_year’."
      ],
      "metadata": {
        "id": "oSxJepa4Othy"
      }
    },
    {
      "cell_type": "code",
      "source": [
        "books_published_in_2000 = df[df['original_publication_year'] == 2000].shape[0]\n",
        "print(\"Number of books published in the year 2000 is:\", books_published_in_2000)"
      ],
      "metadata": {
        "colab": {
          "base_uri": "https://localhost:8080/"
        },
        "id": "YYEbP5P5LvZP",
        "outputId": "dd7caed9-8c0d-4116-a080-9b5f38d15e30"
      },
      "execution_count": 30,
      "outputs": [
        {
          "output_type": "stream",
          "name": "stdout",
          "text": [
            "Number of books published in the year 2000 is: 8\n"
          ]
        }
      ]
    },
    {
      "cell_type": "markdown",
      "source": [
        "Q6: Which book (title) has the maximum number of ratings based on ‘work_ratings_count’."
      ],
      "metadata": {
        "id": "B9Nut5v2O3NG"
      }
    },
    {
      "cell_type": "code",
      "source": [
        "max_ratings_book = df.loc[df['work_ratings_count'].idxmax()]['title']\n",
        "print(\"Book with the maximum number of ratings is:\", max_ratings_book)"
      ],
      "metadata": {
        "colab": {
          "base_uri": "https://localhost:8080/"
        },
        "id": "JAodd4wEMdz4",
        "outputId": "03ef13ff-c090-4b32-edf9-f6c3496e7de4"
      },
      "execution_count": 31,
      "outputs": [
        {
          "output_type": "stream",
          "name": "stdout",
          "text": [
            "Book with the maximum number of ratings is: The Diary of a Young Girl\n"
          ]
        }
      ]
    },
    {
      "cell_type": "markdown",
      "source": [
        "Q7: Bucket the average_rating of books into 11 buckets [0, 0.5, 1.0, 1.5, 2.0, 2.5, 3.0, 3.5, 4.0, 4.5, 5.0] with 0.5 decimal rounding (eg: average_rating 3.0 to 3.49 will fall in bucket 3.0). Plot bar graph to show total number of books in each rating bucket."
      ],
      "metadata": {
        "id": "wcyh9fvuO8yq"
      }
    },
    {
      "cell_type": "code",
      "source": [
        "bins = [0, 0.5, 1.0, 1.5, 2.0, 2.5, 3.0, 3.5, 4.0, 4.5, 5.0]\n",
        "df['rating_bucket'] = pd.cut(df['average_rating'], bins, right=False)\n",
        "bucket_counts = df['rating_bucket'].value_counts().sort_index()\n",
        "plt.bar(bucket_counts.index.astype(str), bucket_counts.values, color='red')\n",
        "plt.xlabel('Rating Bucket')\n",
        "plt.ylabel('Number of Books')\n",
        "plt.title('Number of Books in Each Rating Bucket')\n",
        "plt.show()"
      ],
      "metadata": {
        "colab": {
          "base_uri": "https://localhost:8080/",
          "height": 472
        },
        "id": "Utq27Q-9Mp4L",
        "outputId": "7cfc33bb-0b5a-4ba6-d335-2be166d74441"
      },
      "execution_count": 32,
      "outputs": [
        {
          "output_type": "display_data",
          "data": {
            "text/plain": [
              "<Figure size 640x480 with 1 Axes>"
            ],
            "image/png": "[encoded data removed]"
          },
          "metadata": {}
        }
      ]
    }
  ]
}